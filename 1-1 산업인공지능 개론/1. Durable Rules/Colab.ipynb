{
  "nbformat": 4,
  "nbformat_minor": 0,
  "metadata": {
    "colab": {
      "name": "산업인공지능_개론_mini_project_no1_durable_rules.ipynb",
      "provenance": [],
      "collapsed_sections": [],
      "authorship_tag": "ABX9TyMtvJkK8VZgSCKq4xpRptSd",
      "include_colab_link": true
    },
    "kernelspec": {
      "name": "python3",
      "display_name": "Python 3"
    },
    "language_info": {
      "name": "python"
    }
  },
  "cells": [
    {
      "cell_type": "markdown",
      "metadata": {
        "id": "view-in-github",
        "colab_type": "text"
      },
      "source": [
        "<a href=\"https://colab.research.google.com/github/2jiho/cbnu_durablerules/blob/main/%EC%82%B0%EC%97%85%EC%9D%B8%EA%B3%B5%EC%A7%80%EB%8A%A5_%EA%B0%9C%EB%A1%A0_mini_project_no1_durable_rules.ipynb\" target=\"_parent\"><img src=\"https://colab.research.google.com/assets/colab-badge.svg\" alt=\"Open In Colab\"/></a>"
      ]
    },
    {
      "cell_type": "code",
      "metadata": {
        "id": "GgqIKOjrimT3",
        "colab": {
          "base_uri": "https://localhost:8080/"
        },
        "outputId": "5bac8374-8325-4d89-e863-7aba0fc01297"
      },
      "source": [
        "# Reference Manual\n",
        "# https://github.com/jruizgit/rules/blob/master/docs/py/reference.md\n",
        "\n",
        "# ImportError process\n",
        "try:\n",
        "    from durable.lang import *\n",
        "except ImportError:\n",
        "    !pip install durable_rules -q\n",
        "    from durable.lang import *\n",
        "\n",
        "from durable.lang import _main_host\n",
        "if _main_host is not None:  # already registered resolved\n",
        "    _main_host._ruleset_directory.clear()\n",
        "\n",
        "with ruleset(\"embededBoard\"):\n",
        "    @when_all((m.predicate == \"is\") & (m.object == \"nx\")) # nx trigger\n",
        "    def jetson_xavier_nx(c):\n",
        "        c.assert_fact({\n",
        "            \"label\": c.m.label,\n",
        "            \"predicate\": \"is\",\n",
        "            \"object\": \"Jetson Xavier NX\"\n",
        "        })\n",
        "\n",
        "    @when_all((m.predicate == \"is\") & (m.object == \"nano\")) # nano trigger\n",
        "    def jetson_nano(c):\n",
        "        c.assert_fact({\n",
        "            \"label\": c.m.label,\n",
        "            \"predicate\": \"is\",\n",
        "            \"object\": \"Jetson Nano\"\n",
        "        })\n",
        "\n",
        "    @when_all((m.predicate == \"is\") & (m.object == \"agx\")) # agx trigger\n",
        "    def jetson_agx_xavier(c):\n",
        "        c.assert_fact({\n",
        "            \"label\": c.m.label,\n",
        "            \"predicate\": \"is\",\n",
        "            \"object\": \"Jetson AGX Xavier\"\n",
        "        })\n",
        "\n",
        "    @when_all((m.predicate == \"is\") & ((m.object == \"Jetson Xavier NX\") | (m.object == \"Jetson Nano\") | (m.object == \"Jetson AGX Xavier\")))\n",
        "    def aarch64(c):\n",
        "        c.assert_fact({\n",
        "            \"label\": c.m.label,\n",
        "            \"predicate\": \"is\",\n",
        "            \"object\": \"AARCH64\"\n",
        "        })\n",
        "\n",
        "    @when_all((m.predicate == \"is\") & (m.object == \"AARCH64\"))\n",
        "    def aarch64_compiler(c):\n",
        "        c.assert_fact({\n",
        "            \"label\": c.m.label,\n",
        "            \"predicate\": \"was compiled\",\n",
        "            \"object\": \"aarch64-linux-gnu\"\n",
        "        })\n",
        "\n",
        "    @when_all((m.predicate == \"is\") & (m.object == \"X64\"))\n",
        "    def x64_compiler(c):\n",
        "        c.assert_fact({\n",
        "            \"label\": c.m.label,\n",
        "            \"predicate\": \"was compiled\",\n",
        "            \"object\": \"gcc7\"\n",
        "        })\n",
        "\n",
        "    @when_all((m.predicate == \"is\") & ((m.object == \"Jetson Xavier NX\") | (m.object == \"Jetson Nano\") | (m.object == \"Jetson AGX Xavier\") | (m.object == \"RTX3090\")))\n",
        "    def nvidia(c):\n",
        "        c.assert_fact({\n",
        "            \"label\": c.m.label,\n",
        "            \"predicate\": \"is\",\n",
        "            \"object\": \"Nvidia\"\n",
        "        })\n",
        "\n",
        "    @when_all((m.predicate == \"is\") & (m.object == \"gpu_server\"))\n",
        "    def x64(c):\n",
        "        c.assert_fact({\n",
        "            \"label\": c.m.label, \n",
        "            \"predicate\": \"is\", \n",
        "            \"object\": \"X64\"\n",
        "        })\n",
        "\n",
        "    @when_all((m.predicate == \"is\") & (m.object == \"gpu_server\"))\n",
        "    def gpu(c):\n",
        "        c.assert_fact({\n",
        "            \"label\": c.m.label,\n",
        "            \"predicate\": \"is\",\n",
        "            \"object\": \"RTX3090\"\n",
        "        })\n",
        "\n",
        "    @when_all((m.predicate == \"is\") & ((m.object == \"Jetson Xavier NX\") | (m.object == \"Jetson Nano\") | (m.object == \"Jetson AGX Xavier\") | (m.object == \"RTX3090\")))\n",
        "    def ubuntu(c):\n",
        "        c.assert_fact({\n",
        "            \"label\": c.m.label,\n",
        "            \"predicate\": \"is\",\n",
        "            \"object\": \"Ubuntu\"\n",
        "        })\n",
        "\n",
        "\n",
        "    @when_all(+m.label)\n",
        "    def output(c):\n",
        "        print(f\"Fact: {c.m.label} {c.m.predicate} {c.m.object}\")\n",
        "\n",
        "assert_fact(\"embededBoard\", {\n",
        "    \"label\": f\"nx02\",\n",
        "    \"predicate\": \"is\",\n",
        "    \"object\": \"nx\"\n",
        "})\n",
        "\n",
        "# for i in range(1,3):\n",
        "#     assert_fact(\"embededBoard\", {\n",
        "#         \"label\": f\"nx{i:02d}\",\n",
        "#         \"predicate\": \"is\",\n",
        "#         \"object\": \"nx\"\n",
        "#     })\n",
        "# for i in range(1,3):\n",
        "#     assert_fact(\"embededBoard\", {\n",
        "#         \"label\": f\"nano{i:02d}\",\n",
        "#         \"predicate\": \"is\",\n",
        "#         \"object\": \"nano\"\n",
        "#     })\n",
        "# for i in range(1,3):\n",
        "#     assert_fact(\"embededBoard\", {\n",
        "#         \"label\": f\"agx{i:02d}\",\n",
        "#         \"predicate\": \"is\",\n",
        "#         \"object\": \"agx\"\n",
        "#     })\n",
        "# assert_fact(\"embededBoard\", {\n",
        "#     \"label\": \"server01\",\n",
        "#     \"predicate\": \"is\",\n",
        "#     \"object\": \"gpu_server\"\n",
        "# })\n"
      ],
      "execution_count": null,
      "outputs": [
        {
          "output_type": "stream",
          "text": [
            "Fact: nx02 is Ubuntu\n",
            "Fact: nx02 is Nvidia\n",
            "Fact: nx02 was compiled aarch64-linux-gnu\n",
            "Fact: nx02 is AARCH64\n",
            "Fact: nx02 is Jetson Xavier NX\n",
            "Fact: nx02 is nx\n"
          ],
          "name": "stdout"
        },
        {
          "output_type": "execute_result",
          "data": {
            "text/plain": [
              "{'$s': 1, 'id': 'sid-0', 'sid': '0'}"
            ]
          },
          "metadata": {
            "tags": []
          },
          "execution_count": 20
        }
      ]
    }
  ]
}